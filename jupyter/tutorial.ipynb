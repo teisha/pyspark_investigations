{
 "cells": [
  {
   "cell_type": "code",
   "execution_count": 1,
   "metadata": {},
   "outputs": [],
   "source": [
    "import pyspark\n",
    "from pyspark import SparkContext\n",
    "sc =SparkContext()"
   ]
  },
  {
   "cell_type": "code",
   "execution_count": 2,
   "metadata": {},
   "outputs": [],
   "source": [
    "nums= sc.parallelize([1,2,3,4])\t"
   ]
  },
  {
   "cell_type": "code",
   "execution_count": 3,
   "metadata": {},
   "outputs": [
    {
     "output_type": "execute_result",
     "data": {
      "text/plain": "[1]"
     },
     "metadata": {},
     "execution_count": 3
    }
   ],
   "source": [
    "nums.take(1)"
   ]
  },
  {
   "cell_type": "code",
   "execution_count": 4,
   "metadata": {},
   "outputs": [
    {
     "output_type": "stream",
     "name": "stdout",
     "text": "1 \n4 \n9 \n16 \n"
    }
   ],
   "source": [
    "squared = nums.map(lambda x: x*x).collect()\n",
    "for num in squared:\n",
    "    print('%i ' % (num))"
   ]
  },
  {
   "cell_type": "code",
   "execution_count": 5,
   "metadata": {},
   "outputs": [],
   "source": [
    "from pyspark.sql import Row\n",
    "from pyspark.sql import SQLContext\n",
    "\n",
    "sqlContext = SQLContext(sc)"
   ]
  },
  {
   "cell_type": "code",
   "execution_count": 6,
   "metadata": {},
   "outputs": [
    {
     "output_type": "execute_result",
     "data": {
      "text/plain": "PythonRDD[4] at RDD at PythonRDD.scala:53"
     },
     "metadata": {},
     "execution_count": 6
    }
   ],
   "source": [
    "list_p = [('John',19),('Smith',29),('Adam',35),('Henry',50)]\n",
    "rdd = sc.parallelize(list_p)\n",
    "rdd.map(lambda x: Row(name=x[0], age=int(x[1])))"
   ]
  },
  {
   "cell_type": "code",
   "execution_count": 7,
   "metadata": {},
   "outputs": [],
   "source": [
    "ppl = rdd.map(lambda x: Row(name=x[0], age=int(x[1])))\n",
    "DF_ppl = sqlContext.createDataFrame(ppl)"
   ]
  },
  {
   "cell_type": "code",
   "execution_count": 8,
   "metadata": {},
   "outputs": [
    {
     "output_type": "stream",
     "name": "stdout",
     "text": "root\n |-- age: long (nullable = true)\n |-- name: string (nullable = true)\n\n"
    }
   ],
   "source": [
    "DF_ppl.printSchema()"
   ]
  },
  {
   "cell_type": "code",
   "execution_count": 9,
   "metadata": {},
   "outputs": [],
   "source": [
    "url = \"https://raw.githubusercontent.com/guru99-edu/R-Programming/master/adult_data.csv\"\n",
    "from pyspark import SparkFiles\n",
    "sc.addFile(url)\n",
    "sqlContext = SQLContext(sc)"
   ]
  },
  {
   "cell_type": "code",
   "execution_count": 10,
   "metadata": {},
   "outputs": [],
   "source": [
    "df = sqlContext.read.csv(SparkFiles.get(\"adult_data.csv\"), header=True, inferSchema= True)"
   ]
  },
  {
   "cell_type": "code",
   "execution_count": 11,
   "metadata": {},
   "outputs": [
    {
     "output_type": "stream",
     "name": "stdout",
     "text": "root\n |-- x: integer (nullable = true)\n |-- age: integer (nullable = true)\n |-- workclass: string (nullable = true)\n |-- fnlwgt: integer (nullable = true)\n |-- education: string (nullable = true)\n |-- educational-num: integer (nullable = true)\n |-- marital-status: string (nullable = true)\n |-- occupation: string (nullable = true)\n |-- relationship: string (nullable = true)\n |-- race: string (nullable = true)\n |-- gender: string (nullable = true)\n |-- capital-gain: integer (nullable = true)\n |-- capital-loss: integer (nullable = true)\n |-- hours-per-week: integer (nullable = true)\n |-- native-country: string (nullable = true)\n |-- income: string (nullable = true)\n\n"
    }
   ],
   "source": [
    "df.printSchema()"
   ]
  },
  {
   "cell_type": "code",
   "execution_count": 12,
   "metadata": {},
   "outputs": [
    {
     "output_type": "stream",
     "name": "stdout",
     "text": "+---+---+---------+------+------------+---------------+------------------+-----------------+------------+-----+------+------------+------------+--------------+--------------+------+\n|x  |age|workclass|fnlwgt|education   |educational-num|marital-status    |occupation       |relationship|race |gender|capital-gain|capital-loss|hours-per-week|native-country|income|\n+---+---+---------+------+------------+---------------+------------------+-----------------+------------+-----+------+------------+------------+--------------+--------------+------+\n|1  |25 |Private  |226802|11th        |7              |Never-married     |Machine-op-inspct|Own-child   |Black|Male  |0           |0           |40            |United-States |<=50K |\n|2  |38 |Private  |89814 |HS-grad     |9              |Married-civ-spouse|Farming-fishing  |Husband     |White|Male  |0           |0           |50            |United-States |<=50K |\n|3  |28 |Local-gov|336951|Assoc-acdm  |12             |Married-civ-spouse|Protective-serv  |Husband     |White|Male  |0           |0           |40            |United-States |>50K  |\n|4  |44 |Private  |160323|Some-college|10             |Married-civ-spouse|Machine-op-inspct|Husband     |Black|Male  |7688        |0           |40            |United-States |>50K  |\n|5  |18 |?        |103497|Some-college|10             |Never-married     |?                |Own-child   |White|Female|0           |0           |30            |United-States |<=50K |\n+---+---+---------+------+------------+---------------+------------------+-----------------+------------+-----+------+------------+------------+--------------+--------------+------+\nonly showing top 5 rows\n\n"
    }
   ],
   "source": [
    "df.show(5, truncate = False)"
   ]
  },
  {
   "cell_type": "code",
   "execution_count": 13,
   "metadata": {},
   "outputs": [],
   "source": [
    "df_string = sqlContext.read.csv(SparkFiles.get(\"adult_data.csv\"), header=True, inferSchema=  False)"
   ]
  },
  {
   "cell_type": "code",
   "execution_count": 14,
   "metadata": {},
   "outputs": [
    {
     "output_type": "stream",
     "name": "stdout",
     "text": "root\n |-- x: string (nullable = true)\n |-- age: string (nullable = true)\n |-- workclass: string (nullable = true)\n |-- fnlwgt: string (nullable = true)\n |-- education: string (nullable = true)\n |-- educational-num: string (nullable = true)\n |-- marital-status: string (nullable = true)\n |-- occupation: string (nullable = true)\n |-- relationship: string (nullable = true)\n |-- race: string (nullable = true)\n |-- gender: string (nullable = true)\n |-- capital-gain: string (nullable = true)\n |-- capital-loss: string (nullable = true)\n |-- hours-per-week: string (nullable = true)\n |-- native-country: string (nullable = true)\n |-- income: string (nullable = true)\n\n"
    }
   ],
   "source": [
    "df_string.printSchema()"
   ]
  },
  {
   "cell_type": "code",
   "execution_count": 15,
   "metadata": {},
   "outputs": [
    {
     "output_type": "stream",
     "name": "stdout",
     "text": "root\n |-- x: string (nullable = true)\n |-- age: float (nullable = true)\n |-- workclass: string (nullable = true)\n |-- fnlwgt: float (nullable = true)\n |-- education: string (nullable = true)\n |-- educational-num: float (nullable = true)\n |-- marital-status: string (nullable = true)\n |-- occupation: string (nullable = true)\n |-- relationship: string (nullable = true)\n |-- race: string (nullable = true)\n |-- gender: string (nullable = true)\n |-- capital-gain: float (nullable = true)\n |-- capital-loss: float (nullable = true)\n |-- hours-per-week: float (nullable = true)\n |-- native-country: string (nullable = true)\n |-- income: string (nullable = true)\n\n"
    }
   ],
   "source": [
    "# Import all from `sql.types`\n",
    "from pyspark.sql.types import *\n",
    "def convertColumn(df, names, newType):\n",
    "    for name in names: \n",
    "        df = df.withColumn(name, df[name].cast(newType))\n",
    "    return df\n",
    "\n",
    "CONTI_FEATURES  = ['age', 'fnlwgt','capital-gain', 'educational-num', 'capital-loss', 'hours-per-week']\n",
    "# Convert the type\n",
    "df_string = convertColumn(df_string, CONTI_FEATURES, FloatType())\n",
    "# Check the dataset\n",
    "df_string.printSchema()    "
   ]
  },
  {
   "cell_type": "code",
   "execution_count": 16,
   "metadata": {},
   "outputs": [
    {
     "output_type": "stream",
     "name": "stdout",
     "text": "+---+------+\n|age|fnlwgt|\n+---+------+\n| 25|226802|\n| 38| 89814|\n| 28|336951|\n| 44|160323|\n| 18|103497|\n+---+------+\nonly showing top 5 rows\n\n"
    }
   ],
   "source": [
    "df.select('age','fnlwgt').show(5)\t"
   ]
  },
  {
   "cell_type": "code",
   "execution_count": 17,
   "metadata": {},
   "outputs": [
    {
     "output_type": "stream",
     "name": "stdout",
     "text": "+------------+-----+\n|   education|count|\n+------------+-----+\n|   Preschool|   83|\n|     1st-4th|  247|\n|     5th-6th|  509|\n|   Doctorate|  594|\n|        12th|  657|\n|         9th|  756|\n| Prof-school|  834|\n|     7th-8th|  955|\n|        10th| 1389|\n|  Assoc-acdm| 1601|\n|        11th| 1812|\n|   Assoc-voc| 2061|\n|     Masters| 2657|\n|   Bachelors| 8025|\n|Some-college|10878|\n|     HS-grad|15784|\n+------------+-----+\n\n"
    }
   ],
   "source": [
    "df.groupBy(\"education\").count().sort(\"count\",ascending=True).show()"
   ]
  },
  {
   "cell_type": "code",
   "execution_count": 18,
   "metadata": {},
   "outputs": [
    {
     "output_type": "stream",
     "name": "stdout",
     "text": "+-------+------------------+------------------+-----------+------------------+------------+------------------+--------------+----------------+------------+------------------+------+------------------+------------------+------------------+--------------+------+\n|summary|                 x|               age|  workclass|            fnlwgt|   education|   educational-num|marital-status|      occupation|relationship|              race|gender|      capital-gain|      capital-loss|    hours-per-week|native-country|income|\n+-------+------------------+------------------+-----------+------------------+------------+------------------+--------------+----------------+------------+------------------+------+------------------+------------------+------------------+--------------+------+\n|  count|             48842|             48842|      48842|             48842|       48842|             48842|         48842|           48842|       48842|             48842| 48842|             48842|             48842|             48842|         48842| 48842|\n|   mean|           24421.5| 38.64358543876172|       null|189664.13459727284|        null|10.078088530363212|          null|            null|        null|              null|  null|1079.0676262233324| 87.50231358257237|40.422382375824085|          null|  null|\n| stddev|14099.615260708357|13.710509934443472|       null| 105604.0254231574|        null| 2.570972755592249|          null|            null|        null|              null|  null| 7452.019057655406|403.00455212435935|12.391444024252278|          null|  null|\n|    min|                 1|                17|          ?|             12285|        10th|                 1|      Divorced|               ?|     Husband|Amer-Indian-Eskimo|Female|                 0|                 0|                 1|             ?| <=50K|\n|    max|             48842|                90|Without-pay|           1490400|Some-college|                16|       Widowed|Transport-moving|        Wife|             White|  Male|             99999|              4356|                99|    Yugoslavia|  >50K|\n+-------+------------------+------------------+-----------+------------------+------------+------------------+--------------+----------------+------------+------------------+------+------------------+------------------+------------------+--------------+------+\n\n"
    }
   ],
   "source": [
    "df.describe().show()"
   ]
  },
  {
   "cell_type": "code",
   "execution_count": 19,
   "metadata": {},
   "outputs": [
    {
     "output_type": "stream",
     "name": "stdout",
     "text": "+-------+------------------+\n|summary|      capital-gain|\n+-------+------------------+\n|  count|             48842|\n|   mean|1079.0676262233324|\n| stddev| 7452.019057655406|\n|    min|                 0|\n|    max|             99999|\n+-------+------------------+\n\n"
    }
   ],
   "source": [
    "df.describe('capital-gain').show()"
   ]
  },
  {
   "cell_type": "code",
   "execution_count": 20,
   "metadata": {},
   "outputs": [
    {
     "output_type": "stream",
     "name": "stdout",
     "text": "+----------+-----+----+\n|age_income|<=50K|>50K|\n+----------+-----+----+\n|        17|  595|   0|\n|        18|  862|   0|\n|        19| 1050|   3|\n|        20| 1112|   1|\n|        21| 1090|   6|\n|        22| 1161|  17|\n|        23| 1307|  22|\n|        24| 1162|  44|\n|        25| 1119|  76|\n|        26| 1068|  85|\n|        27| 1117| 115|\n|        28| 1101| 179|\n|        29| 1025| 198|\n|        30| 1031| 247|\n|        31| 1050| 275|\n|        32|  957| 296|\n|        33| 1045| 290|\n|        34|  949| 354|\n|        35|  997| 340|\n|        36|  948| 400|\n+----------+-----+----+\nonly showing top 20 rows\n\n"
    }
   ],
   "source": [
    "df.crosstab('age', 'income').sort(\"age_income\").show()"
   ]
  },
  {
   "cell_type": "code",
   "execution_count": 21,
   "metadata": {},
   "outputs": [
    {
     "output_type": "stream",
     "name": "stdout",
     "text": "+---+----------------+------+------------+---------------+------------------+-----------------+\n|age|       workclass|fnlwgt|   education|educational-num|    marital-status|       occupation|\n+---+----------------+------+------------+---------------+------------------+-----------------+\n| 25|         Private|226802|        11th|              7|     Never-married|Machine-op-inspct|\n| 38|         Private| 89814|     HS-grad|              9|Married-civ-spouse|  Farming-fishing|\n| 28|       Local-gov|336951|  Assoc-acdm|             12|Married-civ-spouse|  Protective-serv|\n| 44|         Private|160323|Some-college|             10|Married-civ-spouse|Machine-op-inspct|\n| 18|               ?|103497|Some-college|             10|     Never-married|                ?|\n| 34|         Private|198693|        10th|              6|     Never-married|    Other-service|\n| 29|               ?|227026|     HS-grad|              9|     Never-married|                ?|\n| 63|Self-emp-not-inc|104626| Prof-school|             15|Married-civ-spouse|   Prof-specialty|\n| 24|         Private|369667|Some-college|             10|     Never-married|    Other-service|\n| 55|         Private|104996|     7th-8th|              4|Married-civ-spouse|     Craft-repair|\n+---+----------------+------+------------+---------------+------------------+-----------------+\nonly showing top 10 rows\n\n"
    }
   ],
   "source": [
    "columns_to_select = ['age','workclass','fnlwgt','education','educational-num','marital-status','occupation']\n",
    "df.select(columns_to_select).show(10)\n"
   ]
  },
  {
   "cell_type": "code",
   "execution_count": 22,
   "metadata": {},
   "outputs": [
    {
     "output_type": "stream",
     "name": "stdout",
     "text": "20211 48842\n"
    }
   ],
   "source": [
    "print (df.filter(df.age > 40).count()\t, df.count())"
   ]
  },
  {
   "cell_type": "code",
   "execution_count": 23,
   "metadata": {},
   "outputs": [
    {
     "output_type": "stream",
     "name": "stdout",
     "text": "+--------------------+------------------+\n|      marital-status| avg(capital-gain)|\n+--------------------+------------------+\n|           Separated| 581.8424836601307|\n|       Never-married|  384.382639449029|\n|Married-spouse-ab...| 629.0047770700637|\n|            Divorced| 793.6755615860094|\n|             Widowed| 603.6442687747035|\n|   Married-AF-spouse|2971.6216216216217|\n|  Married-civ-spouse|1739.7006121810625|\n+--------------------+------------------+\n\n"
    }
   ],
   "source": [
    "df.groupby('marital-status').agg({'capital-gain': 'mean'}).show()"
   ]
  },
  {
   "cell_type": "code",
   "execution_count": 24,
   "metadata": {},
   "outputs": [],
   "source": [
    "from pyspark.sql.functions import *\n",
    "df = df.withColumn(\"age_square\", col(\"age\")**2)"
   ]
  },
  {
   "cell_type": "code",
   "execution_count": 25,
   "metadata": {},
   "outputs": [
    {
     "output_type": "stream",
     "name": "stdout",
     "text": "+---+----------+\n|age|age_square|\n+---+----------+\n| 25|     625.0|\n| 38|    1444.0|\n| 28|     784.0|\n| 44|    1936.0|\n| 18|     324.0|\n| 34|    1156.0|\n| 29|     841.0|\n| 63|    3969.0|\n| 24|     576.0|\n| 55|    3025.0|\n+---+----------+\nonly showing top 10 rows\n\n"
    }
   ],
   "source": [
    "df.select(\"age\", \"age_square\").show(10)"
   ]
  },
  {
   "cell_type": "code",
   "execution_count": 26,
   "metadata": {},
   "outputs": [
    {
     "output_type": "execute_result",
     "data": {
      "text/plain": "Row(age=25, age_square=625.0, workclass='Private', fnlwgt=226802, education='11th', educational-num=7, marital-status='Never-married', occupation='Machine-op-inspct', relationship='Own-child', race='Black', gender='Male', capital-gain=0, capital-loss=0, hours-per-week=40, native-country='United-States', income='<=50K')"
     },
     "metadata": {},
     "execution_count": 26
    }
   ],
   "source": [
    "COLUMNS = ['age', 'age_square', 'workclass', 'fnlwgt', 'education', 'educational-num', 'marital-status',\n",
    "           'occupation', 'relationship', 'race', 'gender', 'capital-gain', 'capital-loss',\n",
    "           'hours-per-week', 'native-country', 'income']\n",
    "df = df.select(COLUMNS)\n",
    "df.first()"
   ]
  },
  {
   "cell_type": "code",
   "execution_count": 27,
   "metadata": {},
   "outputs": [
    {
     "output_type": "stream",
     "name": "stdout",
     "text": "+--------------------+---------------------+\n|      native-country|count(native-country)|\n+--------------------+---------------------+\n|  Holand-Netherlands|                    1|\n|             Hungary|                   19|\n|            Honduras|                   20|\n|            Scotland|                   21|\n|Outlying-US(Guam-...|                   23|\n|          Yugoslavia|                   23|\n|                Laos|                   23|\n|     Trinadad&Tobago|                   27|\n|            Cambodia|                   28|\n|                Hong|                   30|\n|            Thailand|                   30|\n|             Ireland|                   37|\n|              France|                   38|\n|             Ecuador|                   45|\n|                Peru|                   46|\n|              Greece|                   49|\n|           Nicaragua|                   49|\n|                Iran|                   59|\n|              Taiwan|                   65|\n|            Portugal|                   67|\n+--------------------+---------------------+\nonly showing top 20 rows\n\n"
    }
   ],
   "source": [
    "df.groupby('native-country').agg({'native-country': 'count'}).sort(asc(\"count(native-country)\")).show()"
   ]
  },
  {
   "cell_type": "code",
   "execution_count": 28,
   "metadata": {},
   "outputs": [],
   "source": [
    "from pyspark.ml.feature import StringIndexer\n",
    "stringIndexer = StringIndexer(inputCol=\"workclass\", outputCol=\"workclass_encoded\")"
   ]
  },
  {
   "cell_type": "code",
   "execution_count": 29,
   "metadata": {},
   "outputs": [],
   "source": [
    "model = stringIndexer.fit(df)\t\t"
   ]
  },
  {
   "cell_type": "code",
   "execution_count": 30,
   "metadata": {},
   "outputs": [
    {
     "output_type": "stream",
     "name": "stdout",
     "text": "+---+----------------+------+-----------------+-------------+\n|age|       workclass|income|workclass_encoded|workclass_vec|\n+---+----------------+------+-----------------+-------------+\n| 25|         Private| <=50K|              0.0|(9,[0],[1.0])|\n| 38|         Private| <=50K|              0.0|(9,[0],[1.0])|\n| 28|       Local-gov|  >50K|              2.0|(9,[2],[1.0])|\n| 44|         Private|  >50K|              0.0|(9,[0],[1.0])|\n| 18|               ?| <=50K|              3.0|(9,[3],[1.0])|\n| 34|         Private| <=50K|              0.0|(9,[0],[1.0])|\n| 29|               ?| <=50K|              3.0|(9,[3],[1.0])|\n| 63|Self-emp-not-inc|  >50K|              1.0|(9,[1],[1.0])|\n| 24|         Private| <=50K|              0.0|(9,[0],[1.0])|\n| 55|         Private| <=50K|              0.0|(9,[0],[1.0])|\n| 65|         Private|  >50K|              0.0|(9,[0],[1.0])|\n| 36|     Federal-gov| <=50K|              6.0|(9,[6],[1.0])|\n| 26|         Private| <=50K|              0.0|(9,[0],[1.0])|\n| 58|               ?| <=50K|              3.0|(9,[3],[1.0])|\n| 48|         Private|  >50K|              0.0|(9,[0],[1.0])|\n+---+----------------+------+-----------------+-------------+\nonly showing top 15 rows\n\n"
    }
   ],
   "source": [
    "from pyspark.ml.feature import StringIndexer, OneHotEncoder, VectorAssembler\n",
    "indexed = model.transform(df)\n",
    "encoder = OneHotEncoder(dropLast=False, inputCol=\"workclass_encoded\", outputCol=\"workclass_vec\")\n",
    "encoded = encoder.transform(indexed)\n",
    "encoded.select('age','workclass','income','workclass_encoded','workclass_vec').show(15)"
   ]
  },
  {
   "cell_type": "code",
   "execution_count": 31,
   "metadata": {},
   "outputs": [
    {
     "output_type": "stream",
     "name": "stdout",
     "text": "root\n |-- age: integer (nullable = true)\n |-- age_square: double (nullable = true)\n |-- workclass: string (nullable = true)\n |-- fnlwgt: integer (nullable = true)\n |-- education: string (nullable = true)\n |-- educational-num: integer (nullable = true)\n |-- marital-status: string (nullable = true)\n |-- occupation: string (nullable = true)\n |-- relationship: string (nullable = true)\n |-- race: string (nullable = true)\n |-- gender: string (nullable = true)\n |-- capital-gain: integer (nullable = true)\n |-- capital-loss: integer (nullable = true)\n |-- hours-per-week: integer (nullable = true)\n |-- native-country: string (nullable = true)\n |-- income: string (nullable = true)\n\n"
    }
   ],
   "source": [
    "df.printSchema()\n"
   ]
  },
  {
   "cell_type": "code",
   "execution_count": 32,
   "metadata": {},
   "outputs": [],
   "source": [
    "from pyspark.ml import Pipeline\n",
    "from pyspark.ml.feature import OneHotEncoderEstimator\n",
    "CATE_FEATURES = ['workclass', 'education', 'marital-status', 'occupation', 'relationship', 'race', 'gender', 'native-country']\n",
    "stages = [] # stages in our Pipeline\n",
    "for categoricalCol in CATE_FEATURES:\n",
    "    stringIndexer = StringIndexer(inputCol=categoricalCol, outputCol=categoricalCol + \"Index\")\n",
    "    encoder = OneHotEncoderEstimator(inputCols=[stringIndexer.getOutputCol()],\n",
    "                                     outputCols=[categoricalCol + \"classVec\"])\n",
    "    stages += [stringIndexer, encoder]"
   ]
  },
  {
   "cell_type": "code",
   "execution_count": 33,
   "metadata": {},
   "outputs": [
    {
     "output_type": "stream",
     "name": "stdout",
     "text": "16\n"
    }
   ],
   "source": [
    "print (len(stages) )"
   ]
  },
  {
   "cell_type": "code",
   "execution_count": 34,
   "metadata": {},
   "outputs": [
    {
     "output_type": "stream",
     "name": "stdout",
     "text": "[StringIndexer_c2a79139c36f, OneHotEncoderEstimator_778199e27fd8, StringIndexer_4949b884d946, OneHotEncoderEstimator_c593a6c08435, StringIndexer_5a5459159e68, OneHotEncoderEstimator_9c2232cbd141, StringIndexer_77e916f2aba0, OneHotEncoderEstimator_64b41a0bf348, StringIndexer_627251703154, OneHotEncoderEstimator_a1158e12dfc8, StringIndexer_af6776d59cc1, OneHotEncoderEstimator_d02bde5124fd, StringIndexer_8dcbb1e2b113, OneHotEncoderEstimator_252ca36826df, StringIndexer_1f2ca5f4e24d, OneHotEncoderEstimator_ca5ef4c0a650]\n"
    }
   ],
   "source": [
    "print(stages)"
   ]
  },
  {
   "cell_type": "code",
   "execution_count": 35,
   "metadata": {},
   "outputs": [],
   "source": [
    "# Convert label into label indices using the StringIndexer\n",
    "label_stringIdx =  StringIndexer(inputCol=\"income\", outputCol=\"newincome\")\n",
    "stages += [label_stringIdx]"
   ]
  },
  {
   "cell_type": "code",
   "execution_count": 36,
   "metadata": {},
   "outputs": [],
   "source": [
    "assemblerInputs = [c + \"classVec\" for c in CATE_FEATURES] + CONTI_FEATURES"
   ]
  },
  {
   "cell_type": "code",
   "execution_count": 37,
   "metadata": {},
   "outputs": [],
   "source": [
    "assembler = VectorAssembler(inputCols=assemblerInputs, outputCol=\"features\")\n",
    "stages += [assembler]"
   ]
  },
  {
   "cell_type": "code",
   "execution_count": 38,
   "metadata": {},
   "outputs": [],
   "source": [
    "# Create a Pipeline.\n",
    "df_remove = df.filter(df[\"native-country\"] !=\t'Holand-Netherlands')\t\n",
    "pipeline = Pipeline(stages=stages)\n",
    "pipelineModel = pipeline.fit(df_remove)\n",
    "model = pipelineModel.transform(df_remove)"
   ]
  },
  {
   "cell_type": "code",
   "execution_count": 39,
   "metadata": {},
   "outputs": [
    {
     "output_type": "execute_result",
     "data": {
      "text/plain": "[Row(age=25, age_square=625.0, workclass='Private', fnlwgt=226802, education='11th', educational-num=7, marital-status='Never-married', occupation='Machine-op-inspct', relationship='Own-child', race='Black', gender='Male', capital-gain=0, capital-loss=0, hours-per-week=40, native-country='United-States', income='<=50K', workclassIndex=0.0, workclassclassVec=SparseVector(8, {0: 1.0}), educationIndex=5.0, educationclassVec=SparseVector(15, {5: 1.0}), marital-statusIndex=1.0, marital-statusclassVec=SparseVector(6, {1: 1.0}), occupationIndex=6.0, occupationclassVec=SparseVector(14, {6: 1.0}), relationshipIndex=2.0, relationshipclassVec=SparseVector(5, {2: 1.0}), raceIndex=1.0, raceclassVec=SparseVector(4, {1: 1.0}), genderIndex=0.0, genderclassVec=SparseVector(1, {0: 1.0}), native-countryIndex=0.0, native-countryclassVec=SparseVector(40, {0: 1.0}), newincome=0.0, features=SparseVector(99, {0: 1.0, 13: 1.0, 24: 1.0, 35: 1.0, 45: 1.0, 49: 1.0, 52: 1.0, 53: 1.0, 93: 25.0, 94: 226802.0, 96: 7.0, 98: 40.0}))]"
     },
     "metadata": {},
     "execution_count": 39
    }
   ],
   "source": [
    "model.take(1)"
   ]
  },
  {
   "cell_type": "code",
   "execution_count": 40,
   "metadata": {},
   "outputs": [],
   "source": [
    "from pyspark.ml.linalg import DenseVector\n",
    "input_data = model.rdd.map(lambda x: (x[\"newincome\"], DenseVector(x[\"features\"])))"
   ]
  },
  {
   "cell_type": "code",
   "execution_count": 41,
   "metadata": {},
   "outputs": [
    {
     "output_type": "stream",
     "name": "stdout",
     "text": "+---------+--------------------+\n|newincome|            features|\n+---------+--------------------+\n|      0.0|[1.0,0.0,0.0,0.0,...|\n|      0.0|[1.0,0.0,0.0,0.0,...|\n+---------+--------------------+\nonly showing top 2 rows\n\n"
    }
   ],
   "source": [
    "df_train = sqlContext.createDataFrame(input_data, [\"newincome\", \"features\"])\n",
    "df_train.show(2)"
   ]
  },
  {
   "cell_type": "code",
   "execution_count": 42,
   "metadata": {},
   "outputs": [],
   "source": [
    "# Split the data into train and test sets\n",
    "train_data, test_data = df_train.randomSplit([.8,.2],seed=1234)"
   ]
  },
  {
   "cell_type": "code",
   "execution_count": 43,
   "metadata": {},
   "outputs": [
    {
     "output_type": "stream",
     "name": "stdout",
     "text": "root\n |-- newincome: double (nullable = true)\n |-- features: vector (nullable = true)\n\n"
    }
   ],
   "source": [
    "train_data.printSchema()\n",
    "# print(train_data.count())"
   ]
  },
  {
   "cell_type": "code",
   "execution_count": 44,
   "metadata": {},
   "outputs": [
    {
     "output_type": "stream",
     "name": "stdout",
     "text": "+---------+----------------+\n|newincome|count(newincome)|\n+---------+----------------+\n|      0.0|           29652|\n|      1.0|            9326|\n+---------+----------------+\n\n"
    }
   ],
   "source": [
    "train_data.groupby('newincome').agg({'newincome': 'count'}).show()"
   ]
  },
  {
   "cell_type": "code",
   "execution_count": 50,
   "metadata": {},
   "outputs": [
    {
     "output_type": "stream",
     "name": "stdout",
     "text": "+---------+----------------+\n|newincome|count(newincome)|\n+---------+----------------+\n|      0.0|            7502|\n|      1.0|            2361|\n+---------+----------------+\n\n"
    }
   ],
   "source": [
    "test_data.groupby('newincome').agg({'newincome': 'count'}).show()"
   ]
  },
  {
   "cell_type": "code",
   "execution_count": 47,
   "metadata": {},
   "outputs": [
    {
     "output_type": "stream",
     "name": "stdout",
     "text": "root\n |-- newincome: double (nullable = true)\n |-- features: vector (nullable = true)\n\n"
    }
   ],
   "source": [
    "test_data.printSchema()"
   ]
  },
  {
   "cell_type": "code",
   "execution_count": 49,
   "metadata": {},
   "outputs": [
    {
     "output_type": "stream",
     "name": "stdout",
     "text": "9863\n"
    }
   ],
   "source": [
    "print(test_data.count())"
   ]
  },
  {
   "cell_type": "code",
   "execution_count": null,
   "metadata": {},
   "outputs": [],
   "source": []
  }
 ],
 "metadata": {
  "kernelspec": {
   "display_name": "Python 3",
   "language": "python",
   "name": "python3"
  },
  "language_info": {
   "codemirror_mode": {
    "name": "ipython",
    "version": 3
   },
   "file_extension": ".py",
   "mimetype": "text/x-python",
   "name": "python",
   "nbconvert_exporter": "python",
   "pygments_lexer": "ipython3",
   "version": "3.7.6-final"
  }
 },
 "nbformat": 4,
 "nbformat_minor": 4
}