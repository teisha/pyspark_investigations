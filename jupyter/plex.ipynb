{
 "cells": [
  {
   "cell_type": "code",
   "execution_count": 1,
   "metadata": {},
   "outputs": [],
   "source": [
    "import pyspark\n",
    "from pyspark import SparkContext\n",
    "sc = SparkContext.getOrCreate()"
   ]
  },
  {
   "cell_type": "code",
   "execution_count": 15,
   "metadata": {},
   "outputs": [],
   "source": [
    "from pyspark.sql import Row\n",
    "from pyspark.sql import SQLContext\n",
    "sqlContext = SQLContext(sc)\n",
    "\n",
    "plex_json = sqlContext.read.json('./data/Channels.json')"
   ]
  },
  {
   "cell_type": "code",
   "execution_count": 16,
   "metadata": {},
   "outputs": [
    {
     "output_type": "stream",
     "name": "stdout",
     "text": "root\n |-- MediaContainer: struct (nullable = true)\n |    |-- Directory: array (nullable = true)\n |    |    |-- element: struct (containsNull = true)\n |    |    |    |-- Location: array (nullable = true)\n |    |    |    |    |-- element: struct (containsNull = true)\n |    |    |    |    |    |-- id: long (nullable = true)\n |    |    |    |    |    |-- path: string (nullable = true)\n |    |    |    |-- agent: string (nullable = true)\n |    |    |    |-- allowSync: boolean (nullable = true)\n |    |    |    |-- art: string (nullable = true)\n |    |    |    |-- composite: string (nullable = true)\n |    |    |    |-- content: boolean (nullable = true)\n |    |    |    |-- contentChangedAt: long (nullable = true)\n |    |    |    |-- createdAt: long (nullable = true)\n |    |    |    |-- directory: boolean (nullable = true)\n |    |    |    |-- filters: boolean (nullable = true)\n |    |    |    |-- key: string (nullable = true)\n |    |    |    |-- language: string (nullable = true)\n |    |    |    |-- refreshing: boolean (nullable = true)\n |    |    |    |-- scannedAt: long (nullable = true)\n |    |    |    |-- scanner: string (nullable = true)\n |    |    |    |-- thumb: string (nullable = true)\n |    |    |    |-- title: string (nullable = true)\n |    |    |    |-- type: string (nullable = true)\n |    |    |    |-- updatedAt: long (nullable = true)\n |    |    |    |-- uuid: string (nullable = true)\n |    |-- allowSync: boolean (nullable = true)\n |    |-- identifier: string (nullable = true)\n |    |-- mediaTagPrefix: string (nullable = true)\n |    |-- mediaTagVersion: long (nullable = true)\n |    |-- size: long (nullable = true)\n |    |-- title1: string (nullable = true)\n\n"
    }
   ],
   "source": [
    "plex_json.printSchema()"
   ]
  },
  {
   "cell_type": "code",
   "execution_count": 26,
   "metadata": {},
   "outputs": [],
   "source": [
    "from pyspark.sql import Row\n",
    "from pyspark.sql import DataFrame\n",
    "from pyspark.sql.functions import explode\n",
    "df = plex_json.select(explode(plex_json.MediaContainer.Directory).alias(\"directory\"))\n",
    "# catalogs = df.select(explode(df.MediaContainer.Directory))"
   ]
  },
  {
   "cell_type": "code",
   "execution_count": 27,
   "metadata": {},
   "outputs": [
    {
     "output_type": "stream",
     "name": "stdout",
     "text": "root\n |-- directory: struct (nullable = true)\n |    |-- Location: array (nullable = true)\n |    |    |-- element: struct (containsNull = true)\n |    |    |    |-- id: long (nullable = true)\n |    |    |    |-- path: string (nullable = true)\n |    |-- agent: string (nullable = true)\n |    |-- allowSync: boolean (nullable = true)\n |    |-- art: string (nullable = true)\n |    |-- composite: string (nullable = true)\n |    |-- content: boolean (nullable = true)\n |    |-- contentChangedAt: long (nullable = true)\n |    |-- createdAt: long (nullable = true)\n |    |-- directory: boolean (nullable = true)\n |    |-- filters: boolean (nullable = true)\n |    |-- key: string (nullable = true)\n |    |-- language: string (nullable = true)\n |    |-- refreshing: boolean (nullable = true)\n |    |-- scannedAt: long (nullable = true)\n |    |-- scanner: string (nullable = true)\n |    |-- thumb: string (nullable = true)\n |    |-- title: string (nullable = true)\n |    |-- type: string (nullable = true)\n |    |-- updatedAt: long (nullable = true)\n |    |-- uuid: string (nullable = true)\n\n"
    }
   ],
   "source": [
    "df.printSchema()"
   ]
  },
  {
   "cell_type": "code",
   "execution_count": 30,
   "metadata": {},
   "outputs": [
    {
     "output_type": "stream",
     "name": "stdout",
     "text": "root\n |-- directory: struct (nullable = true)\n |    |-- Location: array (nullable = true)\n |    |    |-- element: struct (containsNull = true)\n |    |    |    |-- id: long (nullable = true)\n |    |    |    |-- path: string (nullable = true)\n |    |-- agent: string (nullable = true)\n |    |-- allowSync: boolean (nullable = true)\n |    |-- art: string (nullable = true)\n |    |-- composite: string (nullable = true)\n |    |-- content: boolean (nullable = true)\n |    |-- contentChangedAt: long (nullable = true)\n |    |-- createdAt: long (nullable = true)\n |    |-- directory: boolean (nullable = true)\n |    |-- filters: boolean (nullable = true)\n |    |-- key: string (nullable = true)\n |    |-- language: string (nullable = true)\n |    |-- refreshing: boolean (nullable = true)\n |    |-- scannedAt: long (nullable = true)\n |    |-- scanner: string (nullable = true)\n |    |-- thumb: string (nullable = true)\n |    |-- title: string (nullable = true)\n |    |-- type: string (nullable = true)\n |    |-- updatedAt: long (nullable = true)\n |    |-- uuid: string (nullable = true)\n |-- pathlist: string (nullable = true)\n\n"
    }
   ],
   "source": [
    "from pyspark.sql.functions import udf\n",
    "from pyspark.sql.types import StringType\n",
    "get_paths = udf(lambda channel_loc: ','.join(list( map(lambda loc: loc.path, channel_loc) )), StringType())\n",
    "catalog_mappings = df\n",
    "catalog_mappings = catalog_mappings.withColumn(\"pathlist\", get_paths(catalog_mappings.directory.Location))\n",
    "catalog_mappings.printSchema()"
   ]
  },
  {
   "cell_type": "code",
   "execution_count": 31,
   "metadata": {},
   "outputs": [
    {
     "output_type": "stream",
     "name": "stdout",
     "text": "+--------------------+--------------------+\n|           directory|            pathlist|\n+--------------------+--------------------+\n|[[[18, /mnt/nas/v...|/mnt/nas/video/mo...|\n|[[[17, /mnt/nas/v...|/mnt/nas/video/TV...|\n|[[[15, /mnt/nas/v...|/mnt/nas/video/in...|\n|[[[22, /mnt/nas/v...|/mnt/nas/video/Au...|\n|[[[2, /mnt/nas/vi...|/mnt/nas/video/ki...|\n+--------------------+--------------------+\nonly showing top 5 rows\n\n"
    }
   ],
   "source": [
    "catalog_mappings.show(5)"
   ]
  },
  {
   "cell_type": "code",
   "execution_count": null,
   "metadata": {},
   "outputs": [],
   "source": []
  }
 ],
 "metadata": {
  "kernelspec": {
   "display_name": "Python 3",
   "language": "python",
   "name": "python3"
  },
  "language_info": {
   "codemirror_mode": {
    "name": "ipython",
    "version": 3
   },
   "file_extension": ".py",
   "mimetype": "text/x-python",
   "name": "python",
   "nbconvert_exporter": "python",
   "pygments_lexer": "ipython3",
   "version": "3.7.6-final"
  }
 },
 "nbformat": 4,
 "nbformat_minor": 4
}